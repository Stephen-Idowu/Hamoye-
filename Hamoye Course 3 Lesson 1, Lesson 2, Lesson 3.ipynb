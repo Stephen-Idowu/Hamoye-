{
 "cells": [
  {
   "cell_type": "code",
   "execution_count": null,
   "id": "27f0c0c5",
   "metadata": {},
   "outputs": [],
   "source": [
    "#Linear Classification and logistic Regression"
   ]
  },
  {
   "cell_type": "code",
   "execution_count": 1,
   "id": "36c11f6c",
   "metadata": {},
   "outputs": [
    {
     "name": "stdout",
     "output_type": "stream",
     "text": [
      "       country  year  country_code        record     crop_land  grazing_land  \\\n",
      "0      Armenia  1992             1    AreaPerCap  1.402924e-01  1.995463e-01   \n",
      "1      Armenia  1992             1     AreaTotHA  4.830000e+05  6.870000e+05   \n",
      "2      Armenia  1992             1  BiocapPerCap  1.598044e-01  1.352610e-01   \n",
      "3      Armenia  1992             1  BiocapTotGHA  5.501762e+05  4.656780e+05   \n",
      "4      Armenia  1992             1  EFConsPerCap  3.875102e-01  1.894622e-01   \n",
      "...        ...   ...           ...           ...           ...           ...   \n",
      "72181    World  2016          5001  BiocapTotGHA  3.984702e+09  1.504757e+09   \n",
      "72182    World  2016          5001  EFConsPerCap  5.336445e-01  1.402092e-01   \n",
      "72183    World  2016          5001  EFConsTotGHA  3.984702e+09  1.046937e+09   \n",
      "72184    World  2016          5001  EFProdPerCap  5.336445e-01  1.402092e-01   \n",
      "72185    World  2016          5001  EFProdTotGHA  3.984702e+09  1.046937e+09   \n",
      "\n",
      "        forest_land  fishing_ground  built_up_land        carbon  \\\n",
      "0       0.097188051    3.688847e-02   2.931995e-02  0.000000e+00   \n",
      "1            334600    1.270000e+05   1.009430e+05  0.000000e+00   \n",
      "2       0.084003213    1.374213e-02   3.339780e-02  0.000000e+00   \n",
      "3       289207.1078    4.731155e+04   1.149823e+05  0.000000e+00   \n",
      "4          1.26E-06    4.164833e-03   3.339780e-02  1.114093e+00   \n",
      "...             ...             ...            ...           ...   \n",
      "72181  5111762779.0    1.095445e+09   4.726163e+08  0.000000e+00   \n",
      "72182      0.273495    8.974253e-02   6.329435e-02  1.646235e+00   \n",
      "72183  2042179333.0    6.701039e+08   4.726163e+08  1.229237e+10   \n",
      "72184      0.273495    8.974253e-02   6.329435e-02  1.646235e+00   \n",
      "72185  2042179333.0    6.701039e+08   4.726163e+08  1.229237e+10   \n",
      "\n",
      "              total QScore  \n",
      "0      5.032351e-01     3A  \n",
      "1      1.732543e+06     3A  \n",
      "2      4.262086e-01     3A  \n",
      "3      1.467355e+06     3A  \n",
      "4      1.728629e+00     3A  \n",
      "...             ...    ...  \n",
      "72181  1.216928e+10     3A  \n",
      "72182  2.746619e+00     3A  \n",
      "72183  2.050891e+10     3A  \n",
      "72184  2.746619e+00     3A  \n",
      "72185  2.050891e+10     3A  \n",
      "\n",
      "[72186 rows x 12 columns]\n"
     ]
    },
    {
     "name": "stderr",
     "output_type": "stream",
     "text": [
      "C:\\Users\\Hp\\anaconda3\\lib\\site-packages\\IPython\\core\\interactiveshell.py:3165: DtypeWarning: Columns (6) have mixed types.Specify dtype option on import or set low_memory=False.\n",
      "  has_raised = await self.run_ast_nodes(code_ast.body, cell_name,\n"
     ]
    }
   ],
   "source": [
    "import pandas as pd\n",
    "df = pd.read_csv(r'C:\\Users\\Hp\\Hamoye\\NFA 2019 public_data.csv')\n",
    "print(df)"
   ]
  },
  {
   "cell_type": "code",
   "execution_count": 2,
   "id": "b21a67df",
   "metadata": {},
   "outputs": [
    {
     "data": {
      "text/plain": [
       "country               0\n",
       "year                  0\n",
       "country_code          0\n",
       "record                0\n",
       "crop_land         20472\n",
       "grazing_land      20472\n",
       "forest_land       20472\n",
       "fishing_ground    20473\n",
       "built_up_land     20473\n",
       "carbon            20473\n",
       "total                 9\n",
       "QScore                1\n",
       "dtype: int64"
      ]
     },
     "execution_count": 2,
     "metadata": {},
     "output_type": "execute_result"
    }
   ],
   "source": [
    "df['QScore'].value_counts()\n",
    "df.isna().sum()"
   ]
  },
  {
   "cell_type": "code",
   "execution_count": 3,
   "id": "5a96d54f",
   "metadata": {},
   "outputs": [
    {
     "data": {
      "text/plain": [
       "country           0\n",
       "year              0\n",
       "country_code      0\n",
       "record            0\n",
       "crop_land         0\n",
       "grazing_land      0\n",
       "forest_land       0\n",
       "fishing_ground    0\n",
       "built_up_land     0\n",
       "carbon            0\n",
       "total             0\n",
       "QScore            0\n",
       "dtype: int64"
      ]
     },
     "execution_count": 3,
     "metadata": {},
     "output_type": "execute_result"
    }
   ],
   "source": [
    "#dropping rows with missing values\n",
    "df = df.dropna()\n",
    "df.isna().sum()"
   ]
  },
  {
   "cell_type": "code",
   "execution_count": 4,
   "id": "00418805",
   "metadata": {},
   "outputs": [
    {
     "data": {
      "text/plain": [
       "3A    51473\n",
       "2A      240\n",
       "Name: QScore, dtype: int64"
      ]
     },
     "execution_count": 4,
     "metadata": {},
     "output_type": "execute_result"
    }
   ],
   "source": [
    "df[ 'QScore' ] = df[ 'QScore' ].replace([ '1A' ], '2A' ) \n",
    "df.QScore.value_counts() "
   ]
  },
  {
   "cell_type": "code",
   "execution_count": 5,
   "id": "e9389473",
   "metadata": {},
   "outputs": [],
   "source": [
    "df_2A = df[df.QScore== '2A' ] \n",
    "df_3A = df[df.QScore== '3A' ].sample( 350 ) \n",
    "data_df = df_2A.append(df_3A) "
   ]
  },
  {
   "cell_type": "code",
   "execution_count": 6,
   "id": "50b84477",
   "metadata": {
    "scrolled": true
   },
   "outputs": [
    {
     "data": {
      "text/plain": [
       "3A    350\n",
       "2A    240\n",
       "Name: QScore, dtype: int64"
      ]
     },
     "execution_count": 6,
     "metadata": {},
     "output_type": "execute_result"
    }
   ],
   "source": [
    "import sklearn.utils \n",
    "data_df = sklearn.utils.shuffle(data_df) \n",
    "data_df = data_df.reset_index(drop= True ) \n",
    "data_df.shape \n",
    "data_df.QScore.value_counts() \n"
   ]
  },
  {
   "cell_type": "code",
   "execution_count": 7,
   "id": "2d58297c",
   "metadata": {
    "scrolled": false
   },
   "outputs": [],
   "source": [
    "#more preprocessing\n",
    "\n",
    "data_df = data_df.drop(columns=[ 'country_code' , 'country' , 'year' ]) \n",
    "X = data_df.drop(columns= 'QScore' ) \n",
    "y = data_df[ 'QScore' ] "
   ]
  },
  {
   "cell_type": "code",
   "execution_count": 8,
   "id": "6b540dae",
   "metadata": {},
   "outputs": [
    {
     "data": {
      "text/plain": [
       "3A    239\n",
       "2A    174\n",
       "Name: QScore, dtype: int64"
      ]
     },
     "execution_count": 8,
     "metadata": {},
     "output_type": "execute_result"
    }
   ],
   "source": [
    "#split the data into training and testing sets\n",
    "\n",
    "from sklearn.model_selection import train_test_split \n",
    "x_train, x_test, y_train, y_test = train_test_split(X, y, test_size= 0.3 , random_state= 0 ) \n",
    "y_train.value_counts() "
   ]
  },
  {
   "cell_type": "code",
   "execution_count": 9,
   "id": "1f78e379",
   "metadata": {},
   "outputs": [
    {
     "name": "stderr",
     "output_type": "stream",
     "text": [
      "C:\\Users\\Hp\\anaconda3\\lib\\site-packages\\pandas\\core\\generic.py:5494: SettingWithCopyWarning: \n",
      "A value is trying to be set on a copy of a slice from a DataFrame.\n",
      "Try using .loc[row_indexer,col_indexer] = value instead\n",
      "\n",
      "See the caveats in the documentation: https://pandas.pydata.org/pandas-docs/stable/user_guide/indexing.html#returning-a-view-versus-a-copy\n",
      "  self[name] = value\n"
     ]
    }
   ],
   "source": [
    "#Because of the Imbalance in the class distribution. For this, we use SMOTE only on the training data to handle this. \n",
    "\n",
    "#encode categorical variable \n",
    "\n",
    "from sklearn.preprocessing import LabelEncoder \n",
    "encoder = LabelEncoder() \n",
    "x_train.record = encoder.fit_transform(x_train.record) \n",
    "x_test.record = encoder.transform(x_test.record)"
   ]
  },
  {
   "cell_type": "code",
   "execution_count": 10,
   "id": "e393fa0d",
   "metadata": {},
   "outputs": [],
   "source": [
    "import imblearn \n",
    "from imblearn.over_sampling import SMOTE \n",
    "smote = SMOTE(random_state= 1 ) "
   ]
  },
  {
   "cell_type": "code",
   "execution_count": 11,
   "id": "05fd42f8",
   "metadata": {},
   "outputs": [],
   "source": [
    "x_train_balanced, y_balanced = smote.fit_resample(x_train, y_train) "
   ]
  },
  {
   "cell_type": "code",
   "execution_count": 12,
   "id": "d9488454",
   "metadata": {},
   "outputs": [],
   "source": [
    "from sklearn.preprocessing import MinMaxScaler \n",
    "scaler = MinMaxScaler() \n",
    "normalised_train_df = scaler.fit_transform(x_train_balanced.drop(columns=[ 'record' ])) \n",
    "normalised_train_df = pd.DataFrame(normalised_train_df, \n",
    "columns=x_train_balanced.drop(columns=[ 'record' ]).columns) \n",
    "normalised_train_df[ 'record' ] = x_train_balanced[ 'record' ] "
   ]
  },
  {
   "cell_type": "code",
   "execution_count": 13,
   "id": "51b434b6",
   "metadata": {},
   "outputs": [],
   "source": [
    "x_test = x_test.reset_index(drop= True ) \n",
    "normalised_test_df = scaler.transform(x_test.drop(columns=[ 'record' ])) \n",
    "normalised_test_df = pd.DataFrame(normalised_test_df, \n",
    "columns=x_test.drop(columns=[ 'record' ]).columns) \n",
    "normalised_test_df[ 'record' ] = x_test[ 'record' ] "
   ]
  },
  {
   "cell_type": "code",
   "execution_count": 14,
   "id": "3842671b",
   "metadata": {},
   "outputs": [
    {
     "data": {
      "text/plain": [
       "LogisticRegression()"
      ]
     },
     "execution_count": 14,
     "metadata": {},
     "output_type": "execute_result"
    }
   ],
   "source": [
    "#Logistic Regression \n",
    "from sklearn.linear_model import LogisticRegression \n",
    "log_reg = LogisticRegression() \n",
    "log_reg.fit(normalised_train_df, y_balanced) \n",
    "\n",
    "#returns \n",
    "LogisticRegression(C= 1.0 , class_weight= None , dual= False , fit_intercept= True , \n",
    " intercept_scaling= 1 , l1_ratio= None , max_iter= 100 , \n",
    " multi_class= 'auto' , n_jobs= None , penalty= 'l2' , \n",
    " random_state= None , solver= 'lbfgs' , tol= 0.0001 , verbose= 0 , \n",
    " warm_start= False )"
   ]
  },
  {
   "cell_type": "code",
   "execution_count": null,
   "id": "a68b2124",
   "metadata": {},
   "outputs": [],
   "source": [
    "# LESSON 2\n",
    "Measuring Classification Performance\n",
    "\n",
    "#Cross-Validation and Accuracy "
   ]
  },
  {
   "cell_type": "code",
   "execution_count": null,
   "id": "ba2dd161",
   "metadata": {},
   "outputs": [],
   "source": [
    "from sklearn.model_selection import cross_val_score \n",
    "scores = cross_val_score(log_reg, normalised_train_df, y_balanced, cv= 5 , scoring= 'f1_macro' ) \n",
    "scores"
   ]
  },
  {
   "cell_type": "code",
   "execution_count": null,
   "id": "c2cacf71",
   "metadata": {},
   "outputs": [],
   "source": [
    "# K-Fold Cross Validation \n",
    "from sklearn.model_selection import KFold\n",
    "kf = KFold(n_splits=5)\n",
    "kf.split(normalised_train_df)\n",
    "f1_score = []"
   ]
  },
  {
   "cell_type": "code",
   "execution_count": null,
   "id": "7cfd21ef",
   "metadata": {},
   "outputs": [],
   "source": [
    "#run for every split\n",
    "for train_index, test_index in kf.split(normalised_train_df):\n",
    "    x_train, x_test = normalised_train_df.iloc[train_index],\n",
    "    normalised_train_df.iloc[test_index]\n",
    "    \n",
    "    y_train, y_test = y_balanced[train_index],\n",
    "    y_balanced[test_index]\n",
    "\n",
    "model = LogisticRegression().fit(x_train,y_train)"
   ]
  },
  {
   "cell_type": "code",
   "execution_count": null,
   "id": "4665e462",
   "metadata": {},
   "outputs": [],
   "source": [
    "#save result to list \n",
    "f1_scores.append(f1_score(y_true=y_test, y_pred=model.predict(x_test),pos_label='2A')*100)"
   ]
  },
  {
   "cell_type": "code",
   "execution_count": null,
   "id": "5a1c0c87",
   "metadata": {},
   "outputs": [],
   "source": [
    "# Stratified K-Fold Cross Validation \n",
    "from sklearn.model_selection import StratifiedKKold\n",
    "skf = StratifiedKFold(n_splits=5, shuffle=true, random_state=1)\n",
    "f1_scores = []"
   ]
  },
  {
   "cell_type": "code",
   "execution_count": null,
   "id": "73005dfd",
   "metadata": {},
   "outputs": [],
   "source": [
    "#run for every split \n",
    "for train_index,test_index in skf.split(normalised_train_df,y_balanced):\n",
    "x_train, x_test = np.array(normalised_train_df)[train_index],\n",
    "                  np.array(normalised_train_df)[test_index]\n",
    "y_train, y_test = y_balanced[train_index],\n",
    "                  y_balanced[test_index]\n",
    "\n",
    "model = LogisticRegression().fit(x_train, y_train)"
   ]
  },
  {
   "cell_type": "code",
   "execution_count": null,
   "id": "ce8a7916",
   "metadata": {},
   "outputs": [],
   "source": [
    "#save result to list \n",
    "f1_scores.append(f1_score(y_true=y_test, y_pred=model.predict(x_test), pos_label='2A'))"
   ]
  },
  {
   "cell_type": "code",
   "execution_count": null,
   "id": "6600b62f",
   "metadata": {},
   "outputs": [],
   "source": [
    "#Leave One Out Cross Validation (LOOCV)\n",
    "from sklearn.model_selection import LeaveOneOut\n",
    "loo = LeaveOneOut()\n",
    "scores = cross_val_score(LogisticRegresion(), normalised_train_df, y_balanced, cv=100, scoring='f1_macro')\n",
    "avarage_score = scores.mean() * 100\n"
   ]
  },
  {
   "cell_type": "code",
   "execution_count": 16,
   "id": "fea0f054",
   "metadata": {},
   "outputs": [
    {
     "data": {
      "text/plain": [
       "array([[29, 37],\n",
       "       [50, 61]], dtype=int64)"
      ]
     },
     "execution_count": 16,
     "metadata": {},
     "output_type": "execute_result"
    }
   ],
   "source": [
    "#Confusion Matrix\n",
    "from sklearn.metrics import recall_score, accuracy_score, precision_score, f1_score, confusion_matrix\n",
    "new_predictions = log_reg.predict(normalised_test_df)\n",
    "cnf_mat = confusion_matrix(y_true=y_test, y_pred=new_predictions,labels= ['2A', '3A'])\n",
    "cnf_mat"
   ]
  },
  {
   "cell_type": "code",
   "execution_count": 17,
   "id": "11a1aba7",
   "metadata": {},
   "outputs": [
    {
     "name": "stdout",
     "output_type": "stream",
     "text": [
      "Accuracy:51\n"
     ]
    }
   ],
   "source": [
    "#Accuracy \n",
    "accuracy = accuracy_score(y_true=y_test, y_pred=new_predictions)\n",
    "print('Accuracy:{}'.format(round(accuracy*100), 2))\n",
    "\n"
   ]
  },
  {
   "cell_type": "code",
   "execution_count": 18,
   "id": "a20b24a7",
   "metadata": {},
   "outputs": [
    {
     "name": "stdout",
     "output_type": "stream",
     "text": [
      "Precision: 37\n"
     ]
    }
   ],
   "source": [
    "#Precision \n",
    "precision = precision_score(y_true=y_test, y_pred=new_predictions, pos_label= '2A')\n",
    "print( 'Precision: {}' .format(round(precision* 100 ), 2 ))"
   ]
  },
  {
   "cell_type": "code",
   "execution_count": 19,
   "id": "66bc4048",
   "metadata": {},
   "outputs": [
    {
     "name": "stdout",
     "output_type": "stream",
     "text": [
      "Recall: 44\n"
     ]
    }
   ],
   "source": [
    "#Recall \n",
    "recall = recall_score(y_true=y_test, y_pred=new_predictions, pos_label= '2A' ) \n",
    "print( 'Recall: {}' .format(round(recall* 100 ), 2 )) "
   ]
  },
  {
   "cell_type": "code",
   "execution_count": 20,
   "id": "03339deb",
   "metadata": {},
   "outputs": [
    {
     "name": "stdout",
     "output_type": "stream",
     "text": [
      "F1: 40\n"
     ]
    }
   ],
   "source": [
    "#F1-Score \n",
    "f1 = f1_score(y_true=y_test, y_pred=new_predictions, pos_label= '2A' ) \n",
    "print( 'F1: {}' .format(round(f1* 100 ), 2 ))"
   ]
  },
  {
   "cell_type": "code",
   "execution_count": 1,
   "id": "e0ca6c82",
   "metadata": {},
   "outputs": [
    {
     "ename": "ImportError",
     "evalue": "cannot import name 'DecisionTreeclassifier' from 'sklearn.tree' (C:\\Users\\Hp\\anaconda3\\lib\\site-packages\\sklearn\\tree\\__init__.py)",
     "output_type": "error",
     "traceback": [
      "\u001b[1;31m---------------------------------------------------------------------------\u001b[0m",
      "\u001b[1;31mImportError\u001b[0m                               Traceback (most recent call last)",
      "\u001b[1;32m<ipython-input-1-47a8cb8fdabc>\u001b[0m in \u001b[0;36m<module>\u001b[1;34m\u001b[0m\n\u001b[1;32m----> 1\u001b[1;33m \u001b[1;32mfrom\u001b[0m \u001b[0msklearn\u001b[0m\u001b[1;33m.\u001b[0m\u001b[0mtree\u001b[0m \u001b[1;32mimport\u001b[0m \u001b[0mDecisionTreeclassifier\u001b[0m\u001b[1;33m\u001b[0m\u001b[1;33m\u001b[0m\u001b[0m\n\u001b[0m\u001b[0;32m      2\u001b[0m \u001b[0mdec_tree\u001b[0m \u001b[1;33m=\u001b[0m \u001b[0mDecisionTreeClassifier\u001b[0m\u001b[1;33m(\u001b[0m\u001b[1;33m)\u001b[0m\u001b[1;33m\u001b[0m\u001b[1;33m\u001b[0m\u001b[0m\n\u001b[0;32m      3\u001b[0m \u001b[0mdec_tree\u001b[0m\u001b[1;33m.\u001b[0m\u001b[0mfit\u001b[0m\u001b[1;33m(\u001b[0m\u001b[0mnormalised_train_df\u001b[0m\u001b[1;33m,\u001b[0m \u001b[0my_balanced\u001b[0m\u001b[1;33m)\u001b[0m\u001b[1;33m\u001b[0m\u001b[1;33m\u001b[0m\u001b[0m\n",
      "\u001b[1;31mImportError\u001b[0m: cannot import name 'DecisionTreeclassifier' from 'sklearn.tree' (C:\\Users\\Hp\\anaconda3\\lib\\site-packages\\sklearn\\tree\\__init__.py)"
     ]
    }
   ],
   "source": [
    "from sklearn.tree import DecisionTreeclassifier\n",
    "dec_tree = DecisionTreeClassifier()\n",
    "dec_tree.fit(normalised_train_df, y_balanced)"
   ]
  }
 ],
 "metadata": {
  "kernelspec": {
   "display_name": "Python 3",
   "language": "python",
   "name": "python3"
  },
  "language_info": {
   "codemirror_mode": {
    "name": "ipython",
    "version": 3
   },
   "file_extension": ".py",
   "mimetype": "text/x-python",
   "name": "python",
   "nbconvert_exporter": "python",
   "pygments_lexer": "ipython3",
   "version": "3.8.8"
  }
 },
 "nbformat": 4,
 "nbformat_minor": 5
}
