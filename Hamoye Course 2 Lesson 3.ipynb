{
 "cells": [
  {
   "cell_type": "code",
   "execution_count": null,
   "id": "3f1a2bcc",
   "metadata": {},
   "outputs": [],
   "source": [
    "# Measuring Regression Performance "
   ]
  },
  {
   "cell_type": "code",
   "execution_count": 3,
   "id": "7731cb6c",
   "metadata": {},
   "outputs": [
    {
     "name": "stdout",
     "output_type": "stream",
     "text": [
      "       X1     X2     X3      X4   X5  X6   X7  X8     Y1     Y2  Unnamed: 10  \\\n",
      "0    0.98  514.5  294.0  110.25  7.0   2  0.0   0  15.55  21.33          NaN   \n",
      "1    0.98  514.5  294.0  110.25  7.0   3  0.0   0  15.55  21.33          NaN   \n",
      "2    0.98  514.5  294.0  110.25  7.0   4  0.0   0  15.55  21.33          NaN   \n",
      "3    0.98  514.5  294.0  110.25  7.0   5  0.0   0  15.55  21.33          NaN   \n",
      "4    0.90  563.5  318.5  122.50  7.0   2  0.0   0  20.84  28.28          NaN   \n",
      "..    ...    ...    ...     ...  ...  ..  ...  ..    ...    ...          ...   \n",
      "763  0.64  784.0  343.0  220.50  3.5   5  0.4   5  17.88  21.40          NaN   \n",
      "764  0.62  808.5  367.5  220.50  3.5   2  0.4   5  16.54  16.88          NaN   \n",
      "765  0.62  808.5  367.5  220.50  3.5   3  0.4   5  16.44  17.11          NaN   \n",
      "766  0.62  808.5  367.5  220.50  3.5   4  0.4   5  16.48  16.61          NaN   \n",
      "767  0.62  808.5  367.5  220.50  3.5   5  0.4   5  16.64  16.03          NaN   \n",
      "\n",
      "     Unnamed: 11  \n",
      "0            NaN  \n",
      "1            NaN  \n",
      "2            NaN  \n",
      "3            NaN  \n",
      "4            NaN  \n",
      "..           ...  \n",
      "763          NaN  \n",
      "764          NaN  \n",
      "765          NaN  \n",
      "766          NaN  \n",
      "767          NaN  \n",
      "\n",
      "[768 rows x 12 columns]\n"
     ]
    }
   ],
   "source": [
    "import pandas as pd \n",
    "df = pd.read_excel('https://archive.ics.uci.edu/ml/machine-learning-databases/00242/ENB2012_data.xlsx')\n",
    "print(df)"
   ]
  },
  {
   "cell_type": "code",
   "execution_count": 4,
   "id": "e8c1fea2",
   "metadata": {
    "scrolled": false
   },
   "outputs": [],
   "source": [
    "#renaming column\n",
    "column_names = {'X1':'Relative_Compactness', 'X2':'Surface_Area', 'X3':'Wall_Area',\n",
    "                'X4':'Roof_Area', 'X5':'Overall_Height', 'X6':'Orientation',\n",
    "                'X7':'Glazing_Area', 'X8':'Glazing_Area_Distribution', \n",
    "                'Y1': 'Heating_Load', 'Y2':'Cooling_Load'}"
   ]
  },
  {
   "cell_type": "code",
   "execution_count": 5,
   "id": "f4e43a84",
   "metadata": {
    "scrolled": true
   },
   "outputs": [
    {
     "name": "stdout",
     "output_type": "stream",
     "text": [
      "     Relative_Compactness  Surface_Area  Wall_Area  Roof_Area  Overall_Height  \\\n",
      "0                    0.98         514.5      294.0     110.25             7.0   \n",
      "1                    0.98         514.5      294.0     110.25             7.0   \n",
      "2                    0.98         514.5      294.0     110.25             7.0   \n",
      "3                    0.98         514.5      294.0     110.25             7.0   \n",
      "4                    0.90         563.5      318.5     122.50             7.0   \n",
      "..                    ...           ...        ...        ...             ...   \n",
      "763                  0.64         784.0      343.0     220.50             3.5   \n",
      "764                  0.62         808.5      367.5     220.50             3.5   \n",
      "765                  0.62         808.5      367.5     220.50             3.5   \n",
      "766                  0.62         808.5      367.5     220.50             3.5   \n",
      "767                  0.62         808.5      367.5     220.50             3.5   \n",
      "\n",
      "     Orientation  Glazing_Area  Glazing_Area_Distribution  Heating_Load  \\\n",
      "0              2           0.0                          0         15.55   \n",
      "1              3           0.0                          0         15.55   \n",
      "2              4           0.0                          0         15.55   \n",
      "3              5           0.0                          0         15.55   \n",
      "4              2           0.0                          0         20.84   \n",
      "..           ...           ...                        ...           ...   \n",
      "763            5           0.4                          5         17.88   \n",
      "764            2           0.4                          5         16.54   \n",
      "765            3           0.4                          5         16.44   \n",
      "766            4           0.4                          5         16.48   \n",
      "767            5           0.4                          5         16.64   \n",
      "\n",
      "     Cooling_Load  Unnamed: 10  Unnamed: 11  \n",
      "0           21.33          NaN          NaN  \n",
      "1           21.33          NaN          NaN  \n",
      "2           21.33          NaN          NaN  \n",
      "3           21.33          NaN          NaN  \n",
      "4           28.28          NaN          NaN  \n",
      "..            ...          ...          ...  \n",
      "763         21.40          NaN          NaN  \n",
      "764         16.88          NaN          NaN  \n",
      "765         17.11          NaN          NaN  \n",
      "766         16.61          NaN          NaN  \n",
      "767         16.03          NaN          NaN  \n",
      "\n",
      "[768 rows x 12 columns]\n"
     ]
    }
   ],
   "source": [
    "import pandas as pd\n",
    "\n",
    "df = pd.read_excel('https://archive.ics.uci.edu/ml/machine-learning-databases/00242/ENB2012_data.xlsx')\n",
    "\n",
    "column_names = {'X1':'Relative_Compactness', 'X2':'Surface_Area', 'X3':'Wall_Area',\n",
    "                'X4':'Roof_Area', 'X5':'Overall_Height', 'X6':'Orientation',\n",
    "                'X7':'Glazing_Area', 'X8':'Glazing_Area_Distribution', \n",
    "                'Y1': 'Heating_Load', 'Y2':'Cooling_Load'}\n",
    "\n",
    "df= df.rename(columns=column_names)\n",
    "print(df)"
   ]
  },
  {
   "cell_type": "code",
   "execution_count": 6,
   "id": "243e433c",
   "metadata": {
    "scrolled": true
   },
   "outputs": [
    {
     "name": "stdout",
     "output_type": "stream",
     "text": [
      "     Relative_Compactness  Surface_Area  Wall_Area  Roof_Area  Overall_Height  \\\n",
      "0                    0.98         514.5      294.0     110.25             7.0   \n",
      "1                    0.98         514.5      294.0     110.25             7.0   \n",
      "2                    0.98         514.5      294.0     110.25             7.0   \n",
      "3                    0.98         514.5      294.0     110.25             7.0   \n",
      "4                    0.90         563.5      318.5     122.50             7.0   \n",
      "..                    ...           ...        ...        ...             ...   \n",
      "763                  0.64         784.0      343.0     220.50             3.5   \n",
      "764                  0.62         808.5      367.5     220.50             3.5   \n",
      "765                  0.62         808.5      367.5     220.50             3.5   \n",
      "766                  0.62         808.5      367.5     220.50             3.5   \n",
      "767                  0.62         808.5      367.5     220.50             3.5   \n",
      "\n",
      "     Orientation  Glazing_Area  Glazing_Area_Distribution  Heating_Load  \\\n",
      "0              2           0.0                          0         15.55   \n",
      "1              3           0.0                          0         15.55   \n",
      "2              4           0.0                          0         15.55   \n",
      "3              5           0.0                          0         15.55   \n",
      "4              2           0.0                          0         20.84   \n",
      "..           ...           ...                        ...           ...   \n",
      "763            5           0.4                          5         17.88   \n",
      "764            2           0.4                          5         16.54   \n",
      "765            3           0.4                          5         16.44   \n",
      "766            4           0.4                          5         16.48   \n",
      "767            5           0.4                          5         16.64   \n",
      "\n",
      "     Cooling_Load  \n",
      "0           21.33  \n",
      "1           21.33  \n",
      "2           21.33  \n",
      "3           21.33  \n",
      "4           28.28  \n",
      "..            ...  \n",
      "763         21.40  \n",
      "764         16.88  \n",
      "765         17.11  \n",
      "766         16.61  \n",
      "767         16.03  \n",
      "\n",
      "[768 rows x 10 columns]\n"
     ]
    }
   ],
   "source": [
    "df = df.iloc[:, :-2]\n",
    "print(df)"
   ]
  },
  {
   "cell_type": "code",
   "execution_count": 7,
   "id": "f00f8758",
   "metadata": {},
   "outputs": [
    {
     "data": {
      "text/plain": [
       "0.063"
      ]
     },
     "execution_count": 7,
     "metadata": {},
     "output_type": "execute_result"
    }
   ],
   "source": [
    "# Mean Absolute Error (MAE) \n",
    "\n",
    "# Normalising a dataset to a common scale using the min max scaler\n",
    "\n",
    "\n",
    "import pandas as pd\n",
    "from sklearn.preprocessing import MinMaxScaler\n",
    "scaler = MinMaxScaler()\n",
    "normalised_df = pd.DataFrame(scaler.fit_transform(df), columns=df.columns)\n",
    "features_df = normalised_df.drop(columns=['Heating_Load', 'Cooling_Load'])\n",
    "heating_target = normalised_df['Heating_Load']\n",
    "\n",
    "# Split our dataset into the training and testing dataset. The features and targeted variables have been segmented\n",
    "\n",
    "from sklearn.model_selection import train_test_split\n",
    "x_train, x_test, y_train, y_test = train_test_split(features_df, heating_target,\n",
    "test_size=0.3, random_state=1)\n",
    "\n",
    "from sklearn.linear_model import LinearRegression\n",
    "linear_model = LinearRegression()\n",
    "\n",
    "#fit the model to the training dataset\n",
    "linear_model.fit(x_train, y_train)\n",
    "\n",
    "#obtain predictions\n",
    "predicted_values = linear_model.predict(x_test)\n",
    "\n",
    "#MAE\n",
    "from sklearn.metrics import mean_absolute_error\n",
    "mae = mean_absolute_error(y_test, predicted_values)\n",
    "round(mae, 3)"
   ]
  },
  {
   "cell_type": "code",
   "execution_count": 8,
   "id": "e2e8677f",
   "metadata": {},
   "outputs": [
    {
     "data": {
      "text/plain": [
       "1.817"
      ]
     },
     "execution_count": 8,
     "metadata": {},
     "output_type": "execute_result"
    }
   ],
   "source": [
    "# Residual Sum of Squares (RSS) \n",
    "\n",
    "import numpy as np\n",
    "rss = np.sum(np.square(y_test - predicted_values))\n",
    "round(rss, 3) "
   ]
  },
  {
   "cell_type": "code",
   "execution_count": 9,
   "id": "af453964",
   "metadata": {},
   "outputs": [
    {
     "data": {
      "text/plain": [
       "0.089"
      ]
     },
     "execution_count": 9,
     "metadata": {},
     "output_type": "execute_result"
    }
   ],
   "source": [
    "# Root Mean Square Error (RMSE) \n",
    "\n",
    "from sklearn.metrics import mean_squared_error\n",
    "rmse = np.sqrt(mean_squared_error(y_test, predicted_values))\n",
    "round(rmse, 3) "
   ]
  },
  {
   "cell_type": "code",
   "execution_count": 10,
   "id": "e68316b2",
   "metadata": {},
   "outputs": [
    {
     "data": {
      "text/plain": [
       "0.894"
      ]
     },
     "execution_count": 10,
     "metadata": {},
     "output_type": "execute_result"
    }
   ],
   "source": [
    "# R-Squared \n",
    "\n",
    "from sklearn.metrics import r2_score\n",
    "r2_score = r2_score(y_test, predicted_values)\n",
    "round(r2_score, 3)"
   ]
  },
  {
   "cell_type": "code",
   "execution_count": 11,
   "id": "64ac729a",
   "metadata": {},
   "outputs": [
    {
     "ename": "NameError",
     "evalue": "name 'model' is not defined",
     "output_type": "error",
     "traceback": [
      "\u001b[1;31m---------------------------------------------------------------------------\u001b[0m",
      "\u001b[1;31mNameError\u001b[0m                                 Traceback (most recent call last)",
      "\u001b[1;32m<ipython-input-11-bbf9a33b2746>\u001b[0m in \u001b[0;36m<module>\u001b[1;34m\u001b[0m\n\u001b[0;32m     21\u001b[0m     \u001b[1;32mreturn\u001b[0m \u001b[0mweights_df\u001b[0m\u001b[1;33m\u001b[0m\u001b[1;33m\u001b[0m\u001b[0m\n\u001b[0;32m     22\u001b[0m \u001b[1;33m\u001b[0m\u001b[0m\n\u001b[1;32m---> 23\u001b[1;33m \u001b[0mlinear_model_weights\u001b[0m \u001b[1;33m=\u001b[0m \u001b[0mget_weights_df\u001b[0m\u001b[1;33m(\u001b[0m\u001b[0mmodel\u001b[0m\u001b[1;33m,\u001b[0m \u001b[0mx_train\u001b[0m\u001b[1;33m,\u001b[0m \u001b[1;34m'Linear_Model_Weight'\u001b[0m\u001b[1;33m)\u001b[0m\u001b[1;33m\u001b[0m\u001b[1;33m\u001b[0m\u001b[0m\n\u001b[0m\u001b[0;32m     24\u001b[0m \u001b[0mridge_weights_df\u001b[0m \u001b[1;33m=\u001b[0m \u001b[0mget_weights_df\u001b[0m\u001b[1;33m(\u001b[0m\u001b[0mridge_reg\u001b[0m\u001b[1;33m,\u001b[0m \u001b[0mx_train\u001b[0m\u001b[1;33m,\u001b[0m \u001b[1;34m'Ridge_Weight'\u001b[0m\u001b[1;33m)\u001b[0m\u001b[1;33m\u001b[0m\u001b[1;33m\u001b[0m\u001b[0m\n\u001b[0;32m     25\u001b[0m \u001b[0mlasso_weights_df\u001b[0m \u001b[1;33m=\u001b[0m \u001b[0mget_weights_df\u001b[0m\u001b[1;33m(\u001b[0m\u001b[0mlasso_reg\u001b[0m\u001b[1;33m,\u001b[0m \u001b[0mx_train\u001b[0m\u001b[1;33m,\u001b[0m \u001b[1;34m'Lasso_Weight'\u001b[0m\u001b[1;33m)\u001b[0m\u001b[1;33m\u001b[0m\u001b[1;33m\u001b[0m\u001b[0m\n",
      "\u001b[1;31mNameError\u001b[0m: name 'model' is not defined"
     ]
    }
   ],
   "source": [
    "# Ridge Regression \n",
    "\n",
    "from sklearn.linear_model import Ridge\n",
    "ridge_reg = Ridge(alpha = 0.5)\n",
    "ridge_reg.fit(x_train, y_train)\n",
    "\n",
    "# Feature Selection and Lasso Regression\n",
    "\n",
    "from sklearn.linear_model import Lasso\n",
    "lasso_reg = Lasso(alpha = 0.001)\n",
    "lasso_reg.fit(x_train, y_train)\n",
    "\n",
    "# comparing the effects of regularisation \n",
    "def get_weights_df(model, feat, col_name):\n",
    "    \n",
    "    #this function returns the weight of every feature\n",
    "    weights = pd.Series(model.coef_, feats.columns).sort_value()\n",
    "    weights_df = pd.DataFrame(weights).reset_index()\n",
    "    weights_df.columns = ['Features', col_name]\n",
    "    weights_df[col_name].round(3)\n",
    "    return weights_df\n",
    "\n",
    "linear_model_weights = get_weights_df(model, x_train, 'Linear_Model_Weight')\n",
    "ridge_weights_df = get_weights_df(ridge_reg, x_train, 'Ridge_Weight')\n",
    "lasso_weights_df = get_weights_df(lasso_reg, x_train, 'Lasso_Weight')\n",
    "\n",
    "final_weights = pd.merge(linear_model_weights, ridge_weights_df, on = 'Features')\n",
    "final_weights = pd.merge(final_weights, lasso_weights_df, on = 'Features')"
   ]
  }
 ],
 "metadata": {
  "kernelspec": {
   "display_name": "Python 3",
   "language": "python",
   "name": "python3"
  },
  "language_info": {
   "codemirror_mode": {
    "name": "ipython",
    "version": 3
   },
   "file_extension": ".py",
   "mimetype": "text/x-python",
   "name": "python",
   "nbconvert_exporter": "python",
   "pygments_lexer": "ipython3",
   "version": "3.8.8"
  }
 },
 "nbformat": 4,
 "nbformat_minor": 5
}
