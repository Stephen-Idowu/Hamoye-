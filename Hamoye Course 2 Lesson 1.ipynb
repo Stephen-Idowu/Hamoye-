{
 "cells": [
  {
   "cell_type": "code",
   "execution_count": null,
   "id": "6938f716",
   "metadata": {},
   "outputs": [],
   "source": [
    "# The Simple Linear Regression Model "
   ]
  },
  {
   "cell_type": "code",
   "execution_count": 18,
   "id": "4bd4bd77",
   "metadata": {},
   "outputs": [
    {
     "name": "stdout",
     "output_type": "stream",
     "text": [
      "       X1     X2     X3      X4   X5  X6   X7  X8     Y1     Y2  Unnamed: 10  \\\n",
      "0    0.98  514.5  294.0  110.25  7.0   2  0.0   0  15.55  21.33          NaN   \n",
      "1    0.98  514.5  294.0  110.25  7.0   3  0.0   0  15.55  21.33          NaN   \n",
      "2    0.98  514.5  294.0  110.25  7.0   4  0.0   0  15.55  21.33          NaN   \n",
      "3    0.98  514.5  294.0  110.25  7.0   5  0.0   0  15.55  21.33          NaN   \n",
      "4    0.90  563.5  318.5  122.50  7.0   2  0.0   0  20.84  28.28          NaN   \n",
      "..    ...    ...    ...     ...  ...  ..  ...  ..    ...    ...          ...   \n",
      "763  0.64  784.0  343.0  220.50  3.5   5  0.4   5  17.88  21.40          NaN   \n",
      "764  0.62  808.5  367.5  220.50  3.5   2  0.4   5  16.54  16.88          NaN   \n",
      "765  0.62  808.5  367.5  220.50  3.5   3  0.4   5  16.44  17.11          NaN   \n",
      "766  0.62  808.5  367.5  220.50  3.5   4  0.4   5  16.48  16.61          NaN   \n",
      "767  0.62  808.5  367.5  220.50  3.5   5  0.4   5  16.64  16.03          NaN   \n",
      "\n",
      "     Unnamed: 11  \n",
      "0            NaN  \n",
      "1            NaN  \n",
      "2            NaN  \n",
      "3            NaN  \n",
      "4            NaN  \n",
      "..           ...  \n",
      "763          NaN  \n",
      "764          NaN  \n",
      "765          NaN  \n",
      "766          NaN  \n",
      "767          NaN  \n",
      "\n",
      "[768 rows x 12 columns]\n"
     ]
    }
   ],
   "source": [
    "#importing an excel dataset from a url \n",
    "\n",
    "df = pd.read_excel('https://archive.ics.uci.edu/ml/machine-learning-databases/00242/ENB2012_data.xlsx')\n",
    "print(df)"
   ]
  },
  {
   "cell_type": "code",
   "execution_count": 22,
   "id": "85f0a8ea",
   "metadata": {},
   "outputs": [
    {
     "name": "stdout",
     "output_type": "stream",
     "text": [
      "     Relative_Compactness  Surface_Area  Wall_Area  Roof_Area  Overall_Height  \\\n",
      "0                    0.98         514.5      294.0     110.25             7.0   \n",
      "1                    0.98         514.5      294.0     110.25             7.0   \n",
      "2                    0.98         514.5      294.0     110.25             7.0   \n",
      "3                    0.98         514.5      294.0     110.25             7.0   \n",
      "4                    0.90         563.5      318.5     122.50             7.0   \n",
      "..                    ...           ...        ...        ...             ...   \n",
      "763                  0.64         784.0      343.0     220.50             3.5   \n",
      "764                  0.62         808.5      367.5     220.50             3.5   \n",
      "765                  0.62         808.5      367.5     220.50             3.5   \n",
      "766                  0.62         808.5      367.5     220.50             3.5   \n",
      "767                  0.62         808.5      367.5     220.50             3.5   \n",
      "\n",
      "     Orientation  Glazing_Area  Glazing_Area_Distribution  Heating_Load  \\\n",
      "0              2           0.0                          0         15.55   \n",
      "1              3           0.0                          0         15.55   \n",
      "2              4           0.0                          0         15.55   \n",
      "3              5           0.0                          0         15.55   \n",
      "4              2           0.0                          0         20.84   \n",
      "..           ...           ...                        ...           ...   \n",
      "763            5           0.4                          5         17.88   \n",
      "764            2           0.4                          5         16.54   \n",
      "765            3           0.4                          5         16.44   \n",
      "766            4           0.4                          5         16.48   \n",
      "767            5           0.4                          5         16.64   \n",
      "\n",
      "     Cooling_Load  Unnamed: 10  Unnamed: 11  \n",
      "0           21.33          NaN          NaN  \n",
      "1           21.33          NaN          NaN  \n",
      "2           21.33          NaN          NaN  \n",
      "3           21.33          NaN          NaN  \n",
      "4           28.28          NaN          NaN  \n",
      "..            ...          ...          ...  \n",
      "763         21.40          NaN          NaN  \n",
      "764         16.88          NaN          NaN  \n",
      "765         17.11          NaN          NaN  \n",
      "766         16.61          NaN          NaN  \n",
      "767         16.03          NaN          NaN  \n",
      "\n",
      "[768 rows x 12 columns]\n"
     ]
    }
   ],
   "source": [
    "#renaming column\n",
    "column_names = {'X1':'Relative_Compactness', 'X2':'Surface_Area', 'X3':'Wall_Area',\n",
    "                'X4':'Roof_Area', 'X5':'Overall_Height', 'X6':'Orientation',\n",
    "                'X7':'Glazing_Area', 'X8':'Glazing_Area_Distribution', \n",
    "                'Y1': 'Heating_Load', 'Y2':'Cooling_Load'}\n",
    "\n",
    "df= df.rename(columns=column_names)\n",
    "print(df)"
   ]
  },
  {
   "cell_type": "code",
   "execution_count": 33,
   "id": "30f04795",
   "metadata": {},
   "outputs": [
    {
     "name": "stdout",
     "output_type": "stream",
     "text": [
      "     Relative_Compactness  Cooling_Load\n",
      "390                  0.90         32.83\n",
      "146                  0.98         25.84\n",
      "136                  0.64         19.23\n",
      "420                  0.66         15.53\n",
      "328                  0.64         21.13\n",
      "72                   0.74         13.43\n",
      "110                  0.82         24.80\n",
      "254                  0.82         28.88\n",
      "215                  0.76         34.05\n",
      "559                  0.71         17.47\n",
      "67                   0.79         43.33\n",
      "112                  0.79         41.07\n",
      "66                   0.79         34.43\n",
      "74                   0.74         13.48\n",
      "65                   0.79         35.28\n"
     ]
    }
   ],
   "source": [
    "#Selecting a sample of the data\n",
    "\n",
    "simple_linear_reg_df = df[['Relative_Compactness', 'Cooling_Load']].sample(15, random_state = 4)\n",
    "print(simple_linear_reg_df)"
   ]
  },
  {
   "cell_type": "code",
   "execution_count": 40,
   "id": "f1571f31",
   "metadata": {},
   "outputs": [
    {
     "data": {
      "text/plain": [
       "[<matplotlib.lines.Line2D at 0x19756e194c0>,\n",
       " <matplotlib.lines.Line2D at 0x19756e19580>]"
      ]
     },
     "execution_count": 40,
     "metadata": {},
     "output_type": "execute_result"
    },
    {
     "data": {
      "image/png": "[encoded data removed]",
      "text/plain": [
       "<Figure size 432x288 with 1 Axes>"
      ]
     },
     "metadata": {
      "needs_background": "light"
     },
     "output_type": "display_data"
    }
   ],
   "source": [
    "import matplotlib.pyplot as plt\n",
    "simple_linear_reg_df = df[['Relative_Compactness', 'Cooling_Load']].sample(15, random_state = 4)\n",
    "plt.plot(simple_linear_reg_df)"
   ]
  },
  {
   "cell_type": "code",
   "execution_count": 41,
   "id": "e84e1de5",
   "metadata": {},
   "outputs": [
    {
     "data": {
      "text/plain": [
       "<AxesSubplot:xlabel='Relative_Compactness', ylabel='Cooling_Load'>"
      ]
     },
     "execution_count": 41,
     "metadata": {},
     "output_type": "execute_result"
    },
    {
     "data": {
      "image/png": "[encoded data removed]",
      "text/plain": [
       "<Figure size 432x288 with 1 Axes>"
      ]
     },
     "metadata": {
      "needs_background": "light"
     },
     "output_type": "display_data"
    }
   ],
   "source": [
    "#Regression Plot\n",
    "\n",
    "import seaborn as sns \n",
    "sns.regplot(x='Relative_Compactness', y='Cooling_Load',data=simple_linear_reg_df)"
   ]
  },
  {
   "cell_type": "code",
   "execution_count": null,
   "id": "67ddaee6",
   "metadata": {},
   "outputs": [],
   "source": []
  }
 ],
 "metadata": {
  "kernelspec": {
   "display_name": "Python 3",
   "language": "python",
   "name": "python3"
  },
  "language_info": {
   "codemirror_mode": {
    "name": "ipython",
    "version": 3
   },
   "file_extension": ".py",
   "mimetype": "text/x-python",
   "name": "python",
   "nbconvert_exporter": "python",
   "pygments_lexer": "ipython3",
   "version": "3.8.8"
  }
 },
 "nbformat": 4,
 "nbformat_minor": 5
}
